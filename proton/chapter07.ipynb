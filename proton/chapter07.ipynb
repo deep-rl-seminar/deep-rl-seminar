{
 "cells": [
  {
   "cell_type": "markdown",
   "metadata": {},
   "source": [
    "# 強化学習ゼミ 7章 実装パート\n",
    "<div style=\"text-align: right;\">\n",
    "proton\n",
    "</div>"
   ]
  },
  {
   "cell_type": "markdown",
   "metadata": {},
   "source": [
    "## 7章のメモ\n",
    "---"
   ]
  },
  {
   "cell_type": "markdown",
   "metadata": {},
   "source": [
    "7章はp178~239(p155~216)\n",
    "* 導入(p178~179) DQNの拡張\n",
    "    * N-steps DQN: ベルマン方程式の展開による速度と安定性の向上、 根本的な解決法ではない\n",
    "    * Double DQN: 行動価値Qの過大評価への対処法\n",
    "    * Noisy networks: ネットワークの重みにノイズを追加することにより、より効率的に探索する方法\n",
    "    * Prioritized replay buffer: 一様な経験のサンプリングが訓練に最適でない理由\n",
    "    * Duleling DQN: 収束速度を改善するネットワーク構造\n",
    "    * Categorical DQN:単純な行動価値Qの平均ではなく、分布として扱う方法\n",
    "* \n",
    "\n",
    "* N-step DQN(p191~195)\n"
   ]
  },
  {
   "cell_type": "markdown",
   "metadata": {},
   "source": [
    "# **CPUパワーが足りず、実行が終わらないので(~~性懲りもなく前日から初めたので~~)間に合いませんでした**"
   ]
  },
  {
   "cell_type": "code",
   "execution_count": null,
   "metadata": {},
   "outputs": [],
   "source": []
  },
  {
   "cell_type": "code",
   "execution_count": null,
   "metadata": {},
   "outputs": [],
   "source": []
  },
  {
   "cell_type": "code",
   "execution_count": null,
   "metadata": {},
   "outputs": [],
   "source": []
  }
 ],
 "metadata": {
  "kernelspec": {
   "display_name": "Python 3",
   "language": "python",
   "name": "python3"
  },
  "language_info": {
   "codemirror_mode": {
    "name": "ipython",
    "version": 3
   },
   "file_extension": ".py",
   "mimetype": "text/x-python",
   "name": "python",
   "nbconvert_exporter": "python",
   "pygments_lexer": "ipython3",
   "version": "3.6.7"
  }
 },
 "nbformat": 4,
 "nbformat_minor": 2
}
